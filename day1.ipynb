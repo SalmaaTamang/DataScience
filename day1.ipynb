{
 "cells": [
  {
   "cell_type": "markdown",
   "id": "9382139f",
   "metadata": {},
   "source": [
    "## Getting familar with dataframe and pandas Day 1."
   ]
  },
  {
   "cell_type": "markdown",
   "id": "2f3d5dab",
   "metadata": {},
   "source": [
    "### In below cell I have import csv a Comma Seperated Value and Pandas library. Panda library is used for data manipulation.\n",
    "read_csv helps to read df in form of csv format. \n",
    "If we want to read json or any file format just repalce csv with corresponding file format. Like to read jso file use read_json(\"path of file to be read\")"
   ]
  },
  {
   "cell_type": "code",
   "execution_count": null,
   "id": "80d42bbb",
   "metadata": {},
   "outputs": [],
   "source": [
    "\n",
    "\n",
    "import csv\n",
    "import pandas as pd\n",
    "df = pd.read_csv('quarteroverseas.csv')\n",
    "df.head()"
   ]
  },
  {
   "cell_type": "markdown",
   "id": "caf88fac",
   "metadata": {},
   "source": [
    "### Use of head and tail\n",
    "head=df.head() give top 5 values\n",
    "tail=pf.tail() give top last 5 values\n"
   ]
  },
  {
   "cell_type": "code",
   "execution_count": 3,
   "id": "9fdab69a",
   "metadata": {},
   "outputs": [
    {
     "data": {
      "text/plain": [
       "(100523, 13)"
      ]
     },
     "execution_count": 3,
     "metadata": {},
     "output_type": "execute_result"
    }
   ],
   "source": [
    "df.shape"
   ]
  },
  {
   "cell_type": "markdown",
   "id": "267320d1",
   "metadata": {},
   "source": [
    "### Use of shape\n",
    "shape function is used to get the number of rows and cols that are present in a dataframe\n",
    "the value in 0 index = no of rows\n",
    "the value in 1 inder = no of cols\n",
    "In above we can see that there are 100523 rows and 13 columns"
   ]
  },
  {
   "cell_type": "code",
   "execution_count": 4,
   "id": "4338b5b1",
   "metadata": {},
   "outputs": [
    {
     "data": {
      "text/plain": [
       "Index(['Series_reference', 'Period', 'Data_value', 'STATUS', 'UNITS',\n",
       "       'MAGNTUDE', 'Subject', 'Group', 'Series_title_1', 'Series_title_2',\n",
       "       'Series_title_3', 'Series_title_4', 'Series_title_5'],\n",
       "      dtype='object')"
      ]
     },
     "execution_count": 4,
     "metadata": {},
     "output_type": "execute_result"
    }
   ],
   "source": [
    "df.columns"
   ]
  },
  {
   "cell_type": "code",
   "execution_count": 5,
   "id": "eeedf2a4",
   "metadata": {},
   "outputs": [
    {
     "data": {
      "text/plain": [
       "0               FINAL\n",
       "1               FINAL\n",
       "2               FINAL\n",
       "3               FINAL\n",
       "4               FINAL\n",
       "             ...     \n",
       "100518        REVISED\n",
       "100519        REVISED\n",
       "100520        REVISED\n",
       "100521        REVISED\n",
       "100522    PROVISIONAL\n",
       "Name: STATUS, Length: 100523, dtype: object"
      ]
     },
     "execution_count": 5,
     "metadata": {},
     "output_type": "execute_result"
    }
   ],
   "source": [
    "df['STATUS']"
   ]
  },
  {
   "cell_type": "markdown",
   "id": "f83f981c",
   "metadata": {},
   "source": [
    "### Use of columns and how to read  data from column/s\n",
    "columns fxn is used to get labels that are associated with columns name\n",
    "if we want the value of column then df['colunm_name'] can be use. But when we try to use same for multiple cols then it will give rise to index error.So we will learn about loc and iloc in Day 2."
   ]
  },
  {
   "cell_type": "markdown",
   "id": "d4de3c5c",
   "metadata": {},
   "source": [
    "# Creating own dataframe\n",
    "I will be using 2 method for creating dataframe one will be list of dictionary and another will be list of list say 2d list "
   ]
  },
  {
   "cell_type": "markdown",
   "id": "d0f65cdb",
   "metadata": {},
   "source": [
    "### Dataframe using list of dictionary\n",
    "At first create clo-name to be used and make list of dictionary of data"
   ]
  },
  {
   "cell_type": "code",
   "execution_count": 11,
   "id": "48282ec2",
   "metadata": {},
   "outputs": [],
   "source": [
    "col_name=['Name', 'Rollno', 'Address']\n",
    "data_dict = [{'Name':'Ram', 'Rollno' : 25, 'Address' : 'Kathmandu'},{'Name':'Sam', 'Rollno' : 5, 'Address' : 'Patan'},{'Name':'Sita', 'Rollno' : 5, 'Address' : 'Bhaktapur'}]"
   ]
  },
  {
   "cell_type": "markdown",
   "id": "fa3a1a52",
   "metadata": {},
   "source": [
    "#### Use of DictWriter fxn\n",
    "open(\"name of file to create dataframe\",'w'=write operation ) as =assignment operation to assign it as variable name here it is csvfile\n",
    "make use of DictWriter to make dataframw\n",
    "at first always write column name so make use of writeheader() fxn\n",
    "and then write rows in a loop"
   ]
  },
  {
   "cell_type": "code",
   "execution_count": 18,
   "id": "2d845b59",
   "metadata": {},
   "outputs": [],
   "source": [
    "with open ('dataset.csv','w') as csvfile:\n",
    "    writer = csv.DictWriter(csvfile, fieldnames = col_name)\n",
    "    writer.writeheader()\n",
    "    for d in data_dict:\n",
    "        writer.writerow(d)\n",
    " \n",
    "        "
   ]
  },
  {
   "cell_type": "markdown",
   "id": "e06041ee",
   "metadata": {},
   "source": [
    "### just reading the dataframe created in cell 18"
   ]
  },
  {
   "cell_type": "code",
   "execution_count": 19,
   "id": "a59a4ef0",
   "metadata": {},
   "outputs": [
    {
     "data": {
      "text/html": [
       "<div>\n",
       "<style scoped>\n",
       "    .dataframe tbody tr th:only-of-type {\n",
       "        vertical-align: middle;\n",
       "    }\n",
       "\n",
       "    .dataframe tbody tr th {\n",
       "        vertical-align: top;\n",
       "    }\n",
       "\n",
       "    .dataframe thead th {\n",
       "        text-align: right;\n",
       "    }\n",
       "</style>\n",
       "<table border=\"1\" class=\"dataframe\">\n",
       "  <thead>\n",
       "    <tr style=\"text-align: right;\">\n",
       "      <th></th>\n",
       "      <th>Name</th>\n",
       "      <th>Rollno</th>\n",
       "      <th>Address</th>\n",
       "    </tr>\n",
       "  </thead>\n",
       "  <tbody>\n",
       "    <tr>\n",
       "      <th>0</th>\n",
       "      <td>Ram</td>\n",
       "      <td>25</td>\n",
       "      <td>Kathmandu</td>\n",
       "    </tr>\n",
       "    <tr>\n",
       "      <th>1</th>\n",
       "      <td>Sam</td>\n",
       "      <td>5</td>\n",
       "      <td>Patan</td>\n",
       "    </tr>\n",
       "    <tr>\n",
       "      <th>2</th>\n",
       "      <td>Sita</td>\n",
       "      <td>5</td>\n",
       "      <td>Bhaktapur</td>\n",
       "    </tr>\n",
       "  </tbody>\n",
       "</table>\n",
       "</div>"
      ],
      "text/plain": [
       "   Name  Rollno    Address\n",
       "0   Ram      25  Kathmandu\n",
       "1   Sam       5      Patan\n",
       "2  Sita       5  Bhaktapur"
      ]
     },
     "execution_count": 19,
     "metadata": {},
     "output_type": "execute_result"
    }
   ],
   "source": [
    "df= pd.read_csv('dataset.csv')\n",
    "df"
   ]
  },
  {
   "cell_type": "markdown",
   "id": "2ec66ef4",
   "metadata": {},
   "source": [
    "### Here i have made dataframe by using list of list "
   ]
  },
  {
   "cell_type": "code",
   "execution_count": 22,
   "id": "3caefe41",
   "metadata": {},
   "outputs": [],
   "source": [
    "dataset=[['Name','Age','Rollno'],['Ram', '25','1'], ['Sita','22','3'],['Gita','24','4']]\n",
    "\n",
    "file=open('dataset_list.csv','w')\n",
    "x=csv.writer(file)\n",
    "x.writerows(dataset)\n",
    "file.close()"
   ]
  },
  {
   "cell_type": "code",
   "execution_count": 23,
   "id": "7d3fddff",
   "metadata": {},
   "outputs": [
    {
     "data": {
      "text/html": [
       "<div>\n",
       "<style scoped>\n",
       "    .dataframe tbody tr th:only-of-type {\n",
       "        vertical-align: middle;\n",
       "    }\n",
       "\n",
       "    .dataframe tbody tr th {\n",
       "        vertical-align: top;\n",
       "    }\n",
       "\n",
       "    .dataframe thead th {\n",
       "        text-align: right;\n",
       "    }\n",
       "</style>\n",
       "<table border=\"1\" class=\"dataframe\">\n",
       "  <thead>\n",
       "    <tr style=\"text-align: right;\">\n",
       "      <th></th>\n",
       "      <th>Name</th>\n",
       "      <th>Age</th>\n",
       "      <th>Rollno</th>\n",
       "    </tr>\n",
       "  </thead>\n",
       "  <tbody>\n",
       "    <tr>\n",
       "      <th>0</th>\n",
       "      <td>Ram</td>\n",
       "      <td>25</td>\n",
       "      <td>1</td>\n",
       "    </tr>\n",
       "    <tr>\n",
       "      <th>1</th>\n",
       "      <td>Sita</td>\n",
       "      <td>22</td>\n",
       "      <td>3</td>\n",
       "    </tr>\n",
       "    <tr>\n",
       "      <th>2</th>\n",
       "      <td>Gita</td>\n",
       "      <td>24</td>\n",
       "      <td>4</td>\n",
       "    </tr>\n",
       "  </tbody>\n",
       "</table>\n",
       "</div>"
      ],
      "text/plain": [
       "   Name  Age  Rollno\n",
       "0   Ram   25       1\n",
       "1  Sita   22       3\n",
       "2  Gita   24       4"
      ]
     },
     "execution_count": 23,
     "metadata": {},
     "output_type": "execute_result"
    }
   ],
   "source": [
    "df1=pd.read_csv('dataset_list.csv')\n",
    "df1"
   ]
  },
  {
   "cell_type": "code",
   "execution_count": null,
   "id": "048660ee",
   "metadata": {},
   "outputs": [],
   "source": []
  }
 ],
 "metadata": {
  "kernelspec": {
   "display_name": "Python 3 (ipykernel)",
   "language": "python",
   "name": "python3"
  },
  "language_info": {
   "codemirror_mode": {
    "name": "ipython",
    "version": 3
   },
   "file_extension": ".py",
   "mimetype": "text/x-python",
   "name": "python",
   "nbconvert_exporter": "python",
   "pygments_lexer": "ipython3",
   "version": "3.9.13"
  }
 },
 "nbformat": 4,
 "nbformat_minor": 5
}
